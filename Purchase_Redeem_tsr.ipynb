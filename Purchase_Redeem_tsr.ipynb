{
 "cells": [
  {
   "cell_type": "code",
   "execution_count": 2,
   "metadata": {
    "ExecuteTime": {
     "end_time": "2021-01-21T01:00:23.506369Z",
     "start_time": "2021-01-21T01:00:23.501413Z"
    }
   },
   "outputs": [],
   "source": [
    "import pandas as pd\n",
    "import sklearn as skr\n",
    "import numpy as np\n",
    "import datetime\n",
    "import matplotlib.pyplot as plt\n",
    "import seaborn as sns\n",
    "from dateutil.relativedelta import relativedelta"
   ]
  },
  {
   "cell_type": "code",
   "execution_count": 5,
   "metadata": {
    "ExecuteTime": {
     "end_time": "2021-01-21T01:38:17.722881Z",
     "start_time": "2021-01-21T01:38:17.717877Z"
    }
   },
   "outputs": [],
   "source": [
    "# add tiemstamp to dataset\n",
    "def add_timestamp(data, time_index):\n",
    "    data_balance = data.copy()\n",
    "    data_balance['date'] = pd.to_datetime(data_balance[time_index], format= \"%Y%m%d\")\n",
    "    data_balance['day'] = data_balance['date'].dt.day\n",
    "    data_balance['month'] = data_balance['date'].dt.month\n",
    "    data_balance['year'] = data_balance['date'].dt.year\n",
    "    data_balance['week'] = data_balance['date'].dt.week\n",
    "    data_balance['weekday'] = data_balance['date'].dt.weekday\n",
    "    return data_balance.reset_index(drop=True)"
   ]
  },
  {
   "cell_type": "code",
   "execution_count": 8,
   "metadata": {
    "ExecuteTime": {
     "end_time": "2021-01-21T01:42:26.364717Z",
     "start_time": "2021-01-21T01:42:26.358733Z"
    }
   },
   "outputs": [],
   "source": [
    "# 求purhcase和redeem按天的总量\n",
    "def get_total_balance(data, date):\n",
    "    df_tmp = data.copy()\n",
    "    df_tmp = df_tmp.groupby(['date'])['total_purchase_amt','total_redeem_amt'].sum()\n",
    "    df_tmp.reset_index(inplace=True)\n",
    "    return df_tmp[(df_tmp['date']>= date)].reset_index(drop=True)"
   ]
  },
  {
   "cell_type": "code",
   "execution_count": 10,
   "metadata": {
    "ExecuteTime": {
     "end_time": "2021-01-21T01:44:45.522279Z",
     "start_time": "2021-01-21T01:44:45.516295Z"
    }
   },
   "outputs": [],
   "source": [
    "# 生成测试数据\n",
    "def generate_test_data(data):\n",
    "    total_balance = data.copy()\n",
    "    start = datetime.datetime(2014,9,1)\n",
    "    testdata = []\n",
    "    while start != datetime.datetime(2014,10,15):\n",
    "        temp = [start, np.nan, np.nan]\n",
    "        testdata.append(temp)\n",
    "        start += datetime.timedelta(days = 1)\n",
    "    testdata = pd.DataFrame(testdata)\n",
    "    testdata.columns = total_balance.columns\n",
    "\n",
    "    total_balance = pd.concat([total_balance, testdata], axis = 0)\n",
    "    total_balance = total_balance.reset_index(drop=True)\n",
    "    return total_balance.reset_index(drop=True)"
   ]
  },
  {
   "cell_type": "markdown",
   "metadata": {},
   "source": [
    "## 数据准备"
   ]
  },
  {
   "cell_type": "code",
   "execution_count": 21,
   "metadata": {
    "ExecuteTime": {
     "end_time": "2021-01-21T02:42:31.486166Z",
     "start_time": "2021-01-21T02:42:24.989692Z"
    },
    "scrolled": true
   },
   "outputs": [
    {
     "name": "stderr",
     "output_type": "stream",
     "text": [
      "<ipython-input-5-3af80cbbefd2>:8: FutureWarning: Series.dt.weekofyear and Series.dt.week have been deprecated.  Please use Series.dt.isocalendar().week instead.\n",
      "  data_balance['week'] = data_balance['date'].dt.week\n"
     ]
    }
   ],
   "source": [
    "# 读取数据\n",
    "user_balance_data = pd.read_csv('./Purchase Redemption Data/user_balance_table.csv')\n",
    "user_balance_data = add_timestamp(user_balance_data, 'report_date')\n",
    "user_balance_data = user_balance_data.reset_index(drop=True)"
   ]
  },
  {
   "cell_type": "code",
   "execution_count": 22,
   "metadata": {
    "ExecuteTime": {
     "end_time": "2021-01-21T02:42:52.631144Z",
     "start_time": "2021-01-21T02:42:51.381250Z"
    },
    "scrolled": false
   },
   "outputs": [
    {
     "name": "stderr",
     "output_type": "stream",
     "text": [
      "<ipython-input-8-821ecb406260>:4: FutureWarning: Indexing with multiple keys (implicitly converted to a tuple of keys) will be deprecated, use a list instead.\n",
      "  df_tmp = df_tmp.groupby(['date'])['total_purchase_amt','total_redeem_amt'].sum()\n"
     ]
    }
   ],
   "source": [
    "# 得到按天的总量统计\n",
    "total_balance = get_total_balance(user_balance_data, date='2014-03-01')"
   ]
  },
  {
   "cell_type": "code",
   "execution_count": 23,
   "metadata": {
    "ExecuteTime": {
     "end_time": "2021-01-21T02:42:53.599609Z",
     "start_time": "2021-01-21T02:42:53.591615Z"
    }
   },
   "outputs": [],
   "source": [
    "# 续上测试数据\n",
    "total_balance = generate_test_data(total_balance)"
   ]
  },
  {
   "cell_type": "code",
   "execution_count": 24,
   "metadata": {
    "ExecuteTime": {
     "end_time": "2021-01-21T02:42:54.748482Z",
     "start_time": "2021-01-21T02:42:54.732524Z"
    }
   },
   "outputs": [
    {
     "name": "stderr",
     "output_type": "stream",
     "text": [
      "<ipython-input-5-3af80cbbefd2>:8: FutureWarning: Series.dt.weekofyear and Series.dt.week have been deprecated.  Please use Series.dt.isocalendar().week instead.\n",
      "  data_balance['week'] = data_balance['date'].dt.week\n"
     ]
    }
   ],
   "source": [
    "# 把新生成的数据也进行时间拆分\n",
    "total_balance = add_timestamp(total_balance, 'date')"
   ]
  },
  {
   "cell_type": "code",
   "execution_count": 25,
   "metadata": {
    "ExecuteTime": {
     "end_time": "2021-01-21T02:43:22.322174Z",
     "start_time": "2021-01-21T02:43:22.317187Z"
    }
   },
   "outputs": [],
   "source": [
    "data = total_balance.copy()"
   ]
  },
  {
   "cell_type": "markdown",
   "metadata": {},
   "source": [
    "## 基于时间序列规则的模型构建\n",
    "基本规则法是按照如下方法建立的：  \n",
    "1. 观察周期，如果按周变化，除以周均值得到一个比例；\n",
    "2. 按照列取中位数就可以得到一组鲁棒周期因子；\n",
    "对每个下一周预测，都用base✖上一周的周期因子。"
   ]
  },
  {
   "cell_type": "code",
   "execution_count": 31,
   "metadata": {
    "ExecuteTime": {
     "end_time": "2021-01-21T02:46:26.307553Z",
     "start_time": "2021-01-21T02:46:26.301567Z"
    }
   },
   "outputs": [
    {
     "data": {
      "text/plain": [
       "datetime.datetime(2014, 3, 1, 0, 0)"
      ]
     },
     "execution_count": 31,
     "metadata": {},
     "output_type": "execute_result"
    }
   ],
   "source": [
    "datetime.datetime(2014,3,1)"
   ]
  },
  {
   "cell_type": "code",
   "execution_count": 36,
   "metadata": {
    "ExecuteTime": {
     "end_time": "2021-01-21T02:56:35.414770Z",
     "start_time": "2021-01-21T02:56:35.399780Z"
    }
   },
   "outputs": [],
   "source": [
    "# 定义生成时间序列规则预测结果的方法\n",
    "def generate_base(df, month_index):\n",
    "    # 选中固定时间段的数据集\n",
    "    total_balance = df.copy()\n",
    "    total_balance = total_balance[['date','total_purchase_amt','total_redeem_amt']]\n",
    "    total_balance = total_balance[(total_balance['date'] >= '2014-03-01') & (total_balance['date'] < '2014-0%s-01' % month_index)]\n",
    "\n",
    "    # 加入时间戳\n",
    "    total_balance['weekday'] = total_balance['date'].dt.weekday\n",
    "    total_balance['day'] = total_balance['date'].dt.day\n",
    "    total_balance['week'] = total_balance['date'].dt.week\n",
    "    total_balance['month'] = total_balance['date'].dt.month\n",
    "    \n",
    "    # 统计翌日因子\n",
    "    mean_of_each_weekday = total_balance[['weekday']+['total_purchase_amt','total_redeem_amt']].groupby('weekday',as_index=False).mean()\n",
    "    for name in ['total_purchase_amt','total_redeem_amt']:\n",
    "        mean_of_each_weekday = mean_of_each_weekday.rename(columns={name: name+'_weekdaymean'})\n",
    "    mean_of_each_weekday['total_purchase_amt_weekdaymean'] /= np.mean(total_balance['total_purchase_amt'])\n",
    "    mean_of_each_weekday['total_redeem_amt_weekdaymean'] /= np.mean(total_balance['total_redeem_amt'])\n",
    "\n",
    "    # 合并统计结果到原数据集\n",
    "    total_balance = pd.merge(total_balance, mean_of_each_weekday, on='weekday', how='left')\n",
    "\n",
    "    # 分别统计翌日在(1~31)号出现的频次\n",
    "    weekday_count = total_balance[['day','weekday','date']].groupby(['day','weekday'],as_index=False).count()\n",
    "    weekday_count = pd.merge(weekday_count, mean_of_each_weekday, on='weekday')\n",
    "\n",
    "    # 依据频次对翌日因子进行加权，获得日期因子\n",
    "    weekday_count['total_purchase_amt_weekdaymean'] *= weekday_count['date']   / len(np.unique(total_balance['month']))\n",
    "    weekday_count['total_redeem_amt_weekdaymean'] *= weekday_count['date']  / len(np.unique(total_balance['month']))\n",
    "    day_rate = weekday_count.drop(['weekday','date'],axis=1).groupby('day',as_index=False).sum()\n",
    "\n",
    "    # 将训练集中所有日期的均值剔除日期残差得到base\n",
    "    day_mean = total_balance[['day'] + ['total_purchase_amt','total_redeem_amt']].groupby('day',as_index=False).mean()\n",
    "    day_pre = pd.merge(day_mean, day_rate, on='day', how='left')\n",
    "    day_pre['total_purchase_amt'] /= day_pre['total_purchase_amt_weekdaymean']\n",
    "    day_pre['total_redeem_amt'] /= day_pre['total_redeem_amt_weekdaymean']\n",
    "\n",
    "    # 生成测试集数据\n",
    "    for index, row in day_pre.iterrows():\n",
    "        if month_index in (2,4,6,9) and row['day'] == 31:\n",
    "            break\n",
    "        day_pre.loc[index, 'date'] = datetime.datetime(2014, month_index, int(row['day']))\n",
    "\n",
    "    # 基于base与翌日因子获得最后的预测结果\n",
    "    day_pre['weekday'] = day_pre.date.dt.weekday\n",
    "    day_pre = day_pre[['date','weekday']+['total_purchase_amt','total_redeem_amt']]\n",
    "    day_pre = pd.merge(day_pre, mean_of_each_weekday,on='weekday')\n",
    "    day_pre['total_purchase_amt'] *= day_pre['total_purchase_amt_weekdaymean']\n",
    "    day_pre['total_redeem_amt'] *= day_pre['total_redeem_amt_weekdaymean']\n",
    "\n",
    "    day_pre = day_pre.sort_values('date')[['date']+['total_purchase_amt','total_redeem_amt']]\n",
    "    return day_pre"
   ]
  },
  {
   "cell_type": "code",
   "execution_count": 37,
   "metadata": {
    "ExecuteTime": {
     "end_time": "2021-01-21T02:56:36.750343Z",
     "start_time": "2021-01-21T02:56:36.395369Z"
    },
    "scrolled": false
   },
   "outputs": [
    {
     "name": "stderr",
     "output_type": "stream",
     "text": [
      "<ipython-input-36-bcd81f2c9d0f>:11: FutureWarning: Series.dt.weekofyear and Series.dt.week have been deprecated.  Please use Series.dt.isocalendar().week instead.\n",
      "  total_balance['week'] = total_balance['date'].dt.week\n"
     ]
    }
   ],
   "source": [
    "# 生成预测结果（以及残差）\n",
    "\n",
    "base_list = []\n",
    "for i in range(4, 10):\n",
    "    base_list.append(generate_base(data, i).reset_index(drop=True))\n",
    "\n",
    "base = pd.concat(base_list).reset_index(drop=True)\n",
    "for i in ['total_purchase_amt','total_redeem_amt']:\n",
    "    base = base.rename(columns={i: i+'_base'})\n",
    "\n",
    "data = pd.merge(data.reset_index(drop=True), base.reset_index(drop=True), on='date', how='left').reset_index(drop=True)\n",
    "\n",
    "data['purchase_residual'] = data['total_purchase_amt'] / data['total_purchase_amt_base']\n",
    "\n",
    "data['redeem_residual'] = data['total_redeem_amt'] / data['total_redeem_amt_base']"
   ]
  },
  {
   "cell_type": "code",
   "execution_count": 38,
   "metadata": {
    "ExecuteTime": {
     "end_time": "2021-01-21T02:56:50.074624Z",
     "start_time": "2021-01-21T02:56:50.060686Z"
    }
   },
   "outputs": [],
   "source": [
    "# 对结果表重命名\n",
    "\n",
    "data = data[['date','purchase_residual','redeem_residual','total_purchase_amt_base', 'total_redeem_amt_base']]\n",
    "for i in data.columns:\n",
    "    if i == 'date':\n",
    "        data[i] = data[i].astype(str)\n",
    "        data[i] = data[i].str.replace('-','')\n",
    "data.columns = [['date'] + ['total_purchase_amt','total_redeem_amt'] + ['total_purchase_predicted_by_cycle','total_redeem_predicted_by_cycle'] ]"
   ]
  },
  {
   "cell_type": "code",
   "execution_count": 40,
   "metadata": {
    "ExecuteTime": {
     "end_time": "2021-01-21T02:58:32.749033Z",
     "start_time": "2021-01-21T02:58:32.734038Z"
    }
   },
   "outputs": [],
   "source": [
    "# 保存预测结果到本地\n",
    "data.to_csv('Submission/baseline_0.csv',index=False)"
   ]
  },
  {
   "cell_type": "code",
   "execution_count": null,
   "metadata": {},
   "outputs": [],
   "source": []
  }
 ],
 "metadata": {
  "kernelspec": {
   "display_name": "rs",
   "language": "python",
   "name": "rs"
  },
  "language_info": {
   "codemirror_mode": {
    "name": "ipython",
    "version": 3
   },
   "file_extension": ".py",
   "mimetype": "text/x-python",
   "name": "python",
   "nbconvert_exporter": "python",
   "pygments_lexer": "ipython3",
   "version": "3.8.5"
  },
  "toc": {
   "base_numbering": 1,
   "nav_menu": {},
   "number_sections": true,
   "sideBar": true,
   "skip_h1_title": false,
   "title_cell": "Table of Contents",
   "title_sidebar": "Contents",
   "toc_cell": false,
   "toc_position": {},
   "toc_section_display": true,
   "toc_window_display": false
  },
  "varInspector": {
   "cols": {
    "lenName": 16,
    "lenType": 16,
    "lenVar": 40
   },
   "kernels_config": {
    "python": {
     "delete_cmd_postfix": "",
     "delete_cmd_prefix": "del ",
     "library": "var_list.py",
     "varRefreshCmd": "print(var_dic_list())"
    },
    "r": {
     "delete_cmd_postfix": ") ",
     "delete_cmd_prefix": "rm(",
     "library": "var_list.r",
     "varRefreshCmd": "cat(var_dic_list()) "
    }
   },
   "types_to_exclude": [
    "module",
    "function",
    "builtin_function_or_method",
    "instance",
    "_Feature"
   ],
   "window_display": false
  }
 },
 "nbformat": 4,
 "nbformat_minor": 4
}
