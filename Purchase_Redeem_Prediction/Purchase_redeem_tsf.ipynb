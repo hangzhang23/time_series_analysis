{
 "cells": [
  {
   "cell_type": "code",
   "execution_count": 1,
   "metadata": {
    "ExecuteTime": {
     "end_time": "2021-01-30T11:41:40.312142Z",
     "start_time": "2021-01-30T11:41:39.711302Z"
    }
   },
   "outputs": [],
   "source": [
    "import pandas as pd\n",
    "import numpy as np\n",
    "import datetime"
   ]
  },
  {
   "cell_type": "code",
   "execution_count": 2,
   "metadata": {
    "ExecuteTime": {
     "end_time": "2021-01-30T11:41:40.331079Z",
     "start_time": "2021-01-30T11:41:40.324097Z"
    }
   },
   "outputs": [],
   "source": [
    "# 添加时间维度\n",
    "def add_timestamp(data):\n",
    "    data = data.copy()\n",
    "    data['report_date'] = pd.to_datetime(data['report_date'], format= \"%Y%m%d\")\n",
    "    data['day'] = data['report_date'].dt.day\n",
    "    data['month'] = data['report_date'].dt.month\n",
    "    data['year'] = data['report_date'].dt.year\n",
    "    data['week'] = data['report_date'].dt.week\n",
    "    data['weekday'] = data['report_date'].dt.weekday\n",
    "    return data"
   ]
  },
  {
   "cell_type": "code",
   "execution_count": 3,
   "metadata": {
    "ExecuteTime": {
     "end_time": "2021-01-30T11:41:40.441293Z",
     "start_time": "2021-01-30T11:41:40.436306Z"
    }
   },
   "outputs": [],
   "source": [
    "# 求purhcase和redeem按天的总量\n",
    "def get_total_balance(data, date):\n",
    "    df_tmp = data.copy()\n",
    "    df_tmp = df_tmp.groupby(['report_date'])['total_purchase_amt','total_redeem_amt'].sum()\n",
    "    df_tmp.reset_index(inplace=True)\n",
    "    return df_tmp[(df_tmp['report_date']>= date)].reset_index(drop=True)"
   ]
  },
  {
   "cell_type": "code",
   "execution_count": 4,
   "metadata": {
    "ExecuteTime": {
     "end_time": "2021-01-30T11:41:40.787256Z",
     "start_time": "2021-01-30T11:41:40.781272Z"
    }
   },
   "outputs": [],
   "source": [
    "# 生成测试数据\n",
    "def generate_test_data(data):\n",
    "    total_balance = data.copy()\n",
    "    start = datetime.datetime(2014,9,1)\n",
    "    end = datetime.datetime(2014,10,1)\n",
    "    testdata = []\n",
    "    while start != end:\n",
    "        temp = [start, np.nan, np.nan]\n",
    "        testdata.append(temp)\n",
    "        start += datetime.timedelta(days = 1)\n",
    "    testdata = pd.DataFrame(testdata)\n",
    "    testdata.columns = total_balance.columns\n",
    "\n",
    "    total_balance = pd.concat([total_balance, testdata], axis = 0)\n",
    "    total_balance = total_balance.reset_index(drop=True)\n",
    "    return total_balance.reset_index(drop=True)"
   ]
  },
  {
   "cell_type": "markdown",
   "metadata": {},
   "source": [
    "# 读取数据和数据准备"
   ]
  },
  {
   "cell_type": "code",
   "execution_count": 5,
   "metadata": {
    "ExecuteTime": {
     "end_time": "2021-01-30T11:41:51.177701Z",
     "start_time": "2021-01-30T11:41:47.565200Z"
    }
   },
   "outputs": [],
   "source": [
    "data = pd.read_csv('./Purchase Redemption Data/user_balance_table.csv')"
   ]
  },
  {
   "cell_type": "code",
   "execution_count": 6,
   "metadata": {
    "ExecuteTime": {
     "end_time": "2021-01-30T11:42:12.656846Z",
     "start_time": "2021-01-30T11:42:10.510067Z"
    }
   },
   "outputs": [
    {
     "name": "stderr",
     "output_type": "stream",
     "text": [
      "<ipython-input-2-8d29299f16eb>:8: FutureWarning: Series.dt.weekofyear and Series.dt.week have been deprecated.  Please use Series.dt.isocalendar().week instead.\n",
      "  data['week'] = data['report_date'].dt.week\n"
     ]
    }
   ],
   "source": [
    "# 添加时间属性\n",
    "data = add_timestamp(data)"
   ]
  },
  {
   "cell_type": "code",
   "execution_count": 7,
   "metadata": {
    "ExecuteTime": {
     "end_time": "2021-01-30T11:42:15.204240Z",
     "start_time": "2021-01-30T11:42:13.783568Z"
    }
   },
   "outputs": [
    {
     "name": "stderr",
     "output_type": "stream",
     "text": [
      "<ipython-input-3-823597d2f371>:4: FutureWarning: Indexing with multiple keys (implicitly converted to a tuple of keys) will be deprecated, use a list instead.\n",
      "  df_tmp = df_tmp.groupby(['report_date'])['total_purchase_amt','total_redeem_amt'].sum()\n"
     ]
    }
   ],
   "source": [
    "# 得到按天的总量统计\n",
    "total_balance = get_total_balance(data, date='2014-03-01')"
   ]
  },
  {
   "cell_type": "code",
   "execution_count": 8,
   "metadata": {
    "ExecuteTime": {
     "end_time": "2021-01-30T11:42:16.350761Z",
     "start_time": "2021-01-30T11:42:16.338281Z"
    }
   },
   "outputs": [],
   "source": [
    "# 续上测试数据\n",
    "total_balance = generate_test_data(total_balance)"
   ]
  },
  {
   "cell_type": "code",
   "execution_count": 9,
   "metadata": {
    "ExecuteTime": {
     "end_time": "2021-01-30T11:42:17.410789Z",
     "start_time": "2021-01-30T11:42:17.399270Z"
    }
   },
   "outputs": [
    {
     "name": "stderr",
     "output_type": "stream",
     "text": [
      "<ipython-input-2-8d29299f16eb>:8: FutureWarning: Series.dt.weekofyear and Series.dt.week have been deprecated.  Please use Series.dt.isocalendar().week instead.\n",
      "  data['week'] = data['report_date'].dt.week\n"
     ]
    }
   ],
   "source": [
    "# 把新生成的数据也进行时间拆分\n",
    "total_balance = add_timestamp(total_balance)"
   ]
  },
  {
   "cell_type": "code",
   "execution_count": 10,
   "metadata": {
    "ExecuteTime": {
     "end_time": "2021-01-30T11:44:29.521198Z",
     "start_time": "2021-01-30T11:44:29.517208Z"
    }
   },
   "outputs": [],
   "source": [
    "tmp_data = total_balance.copy()"
   ]
  },
  {
   "cell_type": "markdown",
   "metadata": {},
   "source": [
    "# 构造时间因子\n",
    "- 计算周期因子"
   ]
  },
  {
   "cell_type": "code",
   "execution_count": 13,
   "metadata": {
    "ExecuteTime": {
     "end_time": "2021-01-30T11:49:50.810182Z",
     "start_time": "2021-01-30T11:49:50.805195Z"
    }
   },
   "outputs": [],
   "source": [
    "# (test)计算每周一到周日的purchase和redeem均值\n",
    "total_balance = tmp_data[tmp_data['report_date'] < datetime.datetime(2014,9,1)].copy()\n",
    "weekday_weight = total_balance[['weekday', 'total_purchase_amt', 'total_redeem_amt']].groupby('weekday', as_index=False).mean()"
   ]
  },
  {
   "cell_type": "code",
   "execution_count": 15,
   "metadata": {
    "ExecuteTime": {
     "end_time": "2021-01-30T11:52:08.786684Z",
     "start_time": "2021-01-30T11:52:08.782699Z"
    }
   },
   "outputs": [],
   "source": [
    "weekday_weight.columns=['weekday', 'purchase_weekday', 'redeem_weekday']"
   ]
  },
  {
   "cell_type": "code",
   "execution_count": 16,
   "metadata": {
    "ExecuteTime": {
     "end_time": "2021-01-30T11:52:10.400194Z",
     "start_time": "2021-01-30T11:52:10.389224Z"
    }
   },
   "outputs": [],
   "source": [
    "# 用周日期均值除以总均值得到周期因子\n",
    "weekday_weight['purchase_weekday'] /= np.mean(total_balance['total_purchase_amt'])\n",
    "weekday_weight['redeem_weekday'] /= np.mean(total_balance['total_redeem_amt'])"
   ]
  },
  {
   "cell_type": "code",
   "execution_count": 17,
   "metadata": {
    "ExecuteTime": {
     "end_time": "2021-01-30T11:52:11.372294Z",
     "start_time": "2021-01-30T11:52:11.364315Z"
    }
   },
   "outputs": [],
   "source": [
    "total_balance = pd.merge(total_balance, weekday_weight, on='weekday', how='left')"
   ]
  },
  {
   "cell_type": "markdown",
   "metadata": {},
   "source": [
    "- 计算日期因子"
   ]
  },
  {
   "cell_type": "code",
   "execution_count": 18,
   "metadata": {
    "ExecuteTime": {
     "end_time": "2021-01-30T11:52:15.240881Z",
     "start_time": "2021-01-30T11:52:15.229910Z"
    }
   },
   "outputs": [],
   "source": [
    "# 统计周一到周日在1-31号出现的频次weekday，day出现的频次\n",
    "weekday_count = total_balance[['report_date','day','weekday']].groupby(['day','weekday'],as_index=False).count()\n",
    "weekday_count = pd.merge(weekday_count, weekday_weight, on='weekday')"
   ]
  },
  {
   "cell_type": "code",
   "execution_count": 19,
   "metadata": {
    "ExecuteTime": {
     "end_time": "2021-01-30T11:52:16.359987Z",
     "start_time": "2021-01-30T11:52:16.353006Z"
    }
   },
   "outputs": [],
   "source": [
    "# 日期计算 = 周期因子 * （周一到周日在1-31号出现的频次） / 一共有几个月份\n",
    "weekday_count['purchase_weekday'] = weekday_count['purchase_weekday']* weekday_count['report_date'] / len(np.unique(total_balance['month']))\n",
    "weekday_count['redeem_weekday'] = weekday_count['redeem_weekday']* weekday_count['report_date'] / len(np.unique(total_balance['month']))"
   ]
  },
  {
   "cell_type": "code",
   "execution_count": 20,
   "metadata": {
    "ExecuteTime": {
     "end_time": "2021-01-30T11:52:17.404022Z",
     "start_time": "2021-01-30T11:52:17.397041Z"
    }
   },
   "outputs": [],
   "source": [
    "# 得到日期因子\n",
    "day_rate = weekday_count.drop(['weekday','report_date'], axis=1).groupby('day', as_index=False).sum()"
   ]
  },
  {
   "cell_type": "code",
   "execution_count": 21,
   "metadata": {
    "ExecuteTime": {
     "end_time": "2021-01-30T11:52:18.525090Z",
     "start_time": "2021-01-30T11:52:18.510131Z"
    }
   },
   "outputs": [],
   "source": [
    "# 计算日期平均值\n",
    "day_mean = total_balance[['day','total_purchase_amt','total_redeem_amt']].groupby('day', as_index=False).mean()"
   ]
  },
  {
   "cell_type": "code",
   "execution_count": 22,
   "metadata": {
    "ExecuteTime": {
     "end_time": "2021-01-30T11:52:20.806005Z",
     "start_time": "2021-01-30T11:52:20.798009Z"
    }
   },
   "outputs": [],
   "source": [
    "day_base = pd.merge(day_mean, day_rate, on='day', how='left')\n",
    "# 去掉日期因子影响之后的base值\n",
    "day_base['total_purchase_amt'] /= day_base['purchase_weekday']\n",
    "day_base['total_redeem_amt'] /= day_base['redeem_weekday']"
   ]
  },
  {
   "cell_type": "code",
   "execution_count": 23,
   "metadata": {
    "ExecuteTime": {
     "end_time": "2021-01-30T11:52:50.606519Z",
     "start_time": "2021-01-30T11:52:50.581586Z"
    }
   },
   "outputs": [],
   "source": [
    "for index, row in day_base.iterrows():\n",
    "        if row['day'] == 31:\n",
    "            break\n",
    "        day_base.loc[index, 'report_date'] = pd.to_datetime('2014/9/'+ str(int(row['day'])))"
   ]
  },
  {
   "cell_type": "code",
   "execution_count": 24,
   "metadata": {
    "ExecuteTime": {
     "end_time": "2021-01-30T11:52:53.753563Z",
     "start_time": "2021-01-30T11:52:53.749564Z"
    }
   },
   "outputs": [],
   "source": [
    "# 利用周期因子：base * 周期因子 = 预测结果\n",
    "day_base['weekday'] = day_base['report_date'].dt.weekday"
   ]
  },
  {
   "cell_type": "code",
   "execution_count": 25,
   "metadata": {
    "ExecuteTime": {
     "end_time": "2021-01-30T11:52:58.461501Z",
     "start_time": "2021-01-30T11:52:58.453522Z"
    }
   },
   "outputs": [],
   "source": [
    "day_pred = day_base[['day','total_purchase_amt','total_redeem_amt','report_date','weekday']]\n",
    "day_pred = pd.merge(day_pred, weekday_weight, on='weekday')"
   ]
  },
  {
   "cell_type": "code",
   "execution_count": 26,
   "metadata": {
    "ExecuteTime": {
     "end_time": "2021-01-30T11:52:59.486774Z",
     "start_time": "2021-01-30T11:52:59.481788Z"
    }
   },
   "outputs": [],
   "source": [
    "day_pred['total_purchase_amt'] *= day_pred['purchase_weekday']\n",
    "day_pred['total_redeem_amt'] *= day_pred['redeem_weekday']"
   ]
  },
  {
   "cell_type": "code",
   "execution_count": 27,
   "metadata": {
    "ExecuteTime": {
     "end_time": "2021-01-30T11:53:01.066775Z",
     "start_time": "2021-01-30T11:53:01.060791Z"
    }
   },
   "outputs": [],
   "source": [
    "# 按照日期排序\n",
    "day_pred = day_pred.sort_values('report_date')[['report_date','total_purchase_amt','total_redeem_amt']]"
   ]
  },
  {
   "cell_type": "markdown",
   "metadata": {},
   "source": [
    "# 准备提交数据"
   ]
  },
  {
   "cell_type": "code",
   "execution_count": 29,
   "metadata": {
    "ExecuteTime": {
     "end_time": "2021-01-30T11:53:10.930173Z",
     "start_time": "2021-01-30T11:53:10.925187Z"
    }
   },
   "outputs": [],
   "source": [
    "# 整理日期格式\n",
    "day_pred['report_date'] = day_pred['report_date'].apply(lambda x: str(x).replace('-','')[0:8])"
   ]
  },
  {
   "cell_type": "code",
   "execution_count": 30,
   "metadata": {
    "ExecuteTime": {
     "end_time": "2021-01-30T11:53:19.568095Z",
     "start_time": "2021-01-30T11:53:19.557125Z"
    }
   },
   "outputs": [],
   "source": [
    "day_pred.to_csv('Submission/rule_base_1.csv', index=False, header=None)"
   ]
  },
  {
   "cell_type": "code",
   "execution_count": null,
   "metadata": {},
   "outputs": [],
   "source": []
  }
 ],
 "metadata": {
  "kernelspec": {
   "display_name": "rs",
   "language": "python",
   "name": "rs"
  },
  "language_info": {
   "codemirror_mode": {
    "name": "ipython",
    "version": 3
   },
   "file_extension": ".py",
   "mimetype": "text/x-python",
   "name": "python",
   "nbconvert_exporter": "python",
   "pygments_lexer": "ipython3",
   "version": "3.8.5"
  },
  "toc": {
   "base_numbering": 1,
   "nav_menu": {},
   "number_sections": true,
   "sideBar": true,
   "skip_h1_title": false,
   "title_cell": "Table of Contents",
   "title_sidebar": "Contents",
   "toc_cell": false,
   "toc_position": {},
   "toc_section_display": true,
   "toc_window_display": false
  },
  "varInspector": {
   "cols": {
    "lenName": 16,
    "lenType": 16,
    "lenVar": 40
   },
   "kernels_config": {
    "python": {
     "delete_cmd_postfix": "",
     "delete_cmd_prefix": "del ",
     "library": "var_list.py",
     "varRefreshCmd": "print(var_dic_list())"
    },
    "r": {
     "delete_cmd_postfix": ") ",
     "delete_cmd_prefix": "rm(",
     "library": "var_list.r",
     "varRefreshCmd": "cat(var_dic_list()) "
    }
   },
   "types_to_exclude": [
    "module",
    "function",
    "builtin_function_or_method",
    "instance",
    "_Feature"
   ],
   "window_display": false
  }
 },
 "nbformat": 4,
 "nbformat_minor": 4
}
