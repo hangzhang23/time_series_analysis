{
 "cells": [
  {
   "cell_type": "code",
   "execution_count": 1,
   "metadata": {
    "ExecuteTime": {
     "end_time": "2021-01-29T09:25:11.849157Z",
     "start_time": "2021-01-29T09:25:11.133064Z"
    }
   },
   "outputs": [],
   "source": [
    "import pandas as pd\n",
    "import numpy as np\n",
    "import datetime"
   ]
  },
  {
   "cell_type": "code",
   "execution_count": 2,
   "metadata": {
    "ExecuteTime": {
     "end_time": "2021-01-29T09:25:11.874091Z",
     "start_time": "2021-01-29T09:25:11.865116Z"
    }
   },
   "outputs": [],
   "source": [
    "# 添加时间维度\n",
    "def add_timestamp(data):\n",
    "    data = data.copy()\n",
    "    data['report_date'] = pd.to_datetime(data['report_date'], format= \"%Y%m%d\")\n",
    "    data['day'] = data['report_date'].dt.day\n",
    "    data['month'] = data['report_date'].dt.month\n",
    "    data['year'] = data['report_date'].dt.year\n",
    "    data['week'] = data['report_date'].dt.week\n",
    "    data['weekday'] = data['report_date'].dt.weekday\n",
    "    return data"
   ]
  },
  {
   "cell_type": "code",
   "execution_count": 3,
   "metadata": {
    "ExecuteTime": {
     "end_time": "2021-01-29T09:25:12.458911Z",
     "start_time": "2021-01-29T09:25:12.454922Z"
    }
   },
   "outputs": [],
   "source": [
    "# 求purhcase和redeem按天的总量\n",
    "def get_total_balance(data, date):\n",
    "    df_tmp = data.copy()\n",
    "    df_tmp = df_tmp.groupby(['report_date'])['total_purchase_amt','total_redeem_amt'].sum()\n",
    "    df_tmp.reset_index(inplace=True)\n",
    "    return df_tmp[(df_tmp['report_date']>= date)].reset_index(drop=True)"
   ]
  },
  {
   "cell_type": "code",
   "execution_count": 4,
   "metadata": {
    "ExecuteTime": {
     "end_time": "2021-01-29T09:25:13.132620Z",
     "start_time": "2021-01-29T09:25:13.126636Z"
    }
   },
   "outputs": [],
   "source": [
    "# 生成测试数据\n",
    "def generate_test_data(data):\n",
    "    total_balance = data.copy()\n",
    "    start = datetime.datetime(2014,9,1)\n",
    "    end = datetime.datetime(2014,10,1)\n",
    "    testdata = []\n",
    "    while start != end:\n",
    "        temp = [start, np.nan, np.nan]\n",
    "        testdata.append(temp)\n",
    "        start += datetime.timedelta(days = 1)\n",
    "    testdata = pd.DataFrame(testdata)\n",
    "    testdata.columns = total_balance.columns\n",
    "\n",
    "    total_balance = pd.concat([total_balance, testdata], axis = 0)\n",
    "    total_balance = total_balance.reset_index(drop=True)\n",
    "    return total_balance.reset_index(drop=True)"
   ]
  },
  {
   "cell_type": "markdown",
   "metadata": {},
   "source": [
    "# 读取数据和数据准备"
   ]
  },
  {
   "cell_type": "code",
   "execution_count": 5,
   "metadata": {
    "ExecuteTime": {
     "end_time": "2021-01-29T09:25:20.092026Z",
     "start_time": "2021-01-29T09:25:15.830474Z"
    }
   },
   "outputs": [],
   "source": [
    "data = pd.read_csv('./Purchase Redemption Data/user_balance_table.csv')"
   ]
  },
  {
   "cell_type": "code",
   "execution_count": 6,
   "metadata": {
    "ExecuteTime": {
     "end_time": "2021-01-29T09:25:22.531971Z",
     "start_time": "2021-01-29T09:25:20.119954Z"
    }
   },
   "outputs": [
    {
     "name": "stderr",
     "output_type": "stream",
     "text": [
      "<ipython-input-2-8d29299f16eb>:8: FutureWarning: Series.dt.weekofyear and Series.dt.week have been deprecated.  Please use Series.dt.isocalendar().week instead.\n",
      "  data['week'] = data['report_date'].dt.week\n"
     ]
    }
   ],
   "source": [
    "data = add_timestamp(data)"
   ]
  },
  {
   "cell_type": "code",
   "execution_count": 7,
   "metadata": {
    "ExecuteTime": {
     "end_time": "2021-01-29T09:25:27.391913Z",
     "start_time": "2021-01-29T09:25:26.166629Z"
    }
   },
   "outputs": [
    {
     "name": "stderr",
     "output_type": "stream",
     "text": [
      "<ipython-input-3-823597d2f371>:4: FutureWarning: Indexing with multiple keys (implicitly converted to a tuple of keys) will be deprecated, use a list instead.\n",
      "  df_tmp = df_tmp.groupby(['report_date'])['total_purchase_amt','total_redeem_amt'].sum()\n"
     ]
    }
   ],
   "source": [
    "# 得到按天的总量统计\n",
    "total_balance = get_total_balance(data, date='2014-03-01')"
   ]
  },
  {
   "cell_type": "code",
   "execution_count": 8,
   "metadata": {
    "ExecuteTime": {
     "end_time": "2021-01-29T09:25:28.631908Z",
     "start_time": "2021-01-29T09:25:28.620907Z"
    }
   },
   "outputs": [],
   "source": [
    "# 续上测试数据\n",
    "total_balance = generate_test_data(total_balance)"
   ]
  },
  {
   "cell_type": "code",
   "execution_count": 9,
   "metadata": {
    "ExecuteTime": {
     "end_time": "2021-01-29T09:25:29.768971Z",
     "start_time": "2021-01-29T09:25:29.749965Z"
    }
   },
   "outputs": [
    {
     "name": "stderr",
     "output_type": "stream",
     "text": [
      "<ipython-input-2-8d29299f16eb>:8: FutureWarning: Series.dt.weekofyear and Series.dt.week have been deprecated.  Please use Series.dt.isocalendar().week instead.\n",
      "  data['week'] = data['report_date'].dt.week\n"
     ]
    }
   ],
   "source": [
    "# 把新生成的数据也进行时间拆分\n",
    "total_balance = add_timestamp(total_balance)"
   ]
  },
  {
   "cell_type": "code",
   "execution_count": 10,
   "metadata": {
    "ExecuteTime": {
     "end_time": "2021-01-29T09:25:30.944944Z",
     "start_time": "2021-01-29T09:25:30.933940Z"
    }
   },
   "outputs": [],
   "source": [
    "tmp_data = total_balance.copy()"
   ]
  },
  {
   "cell_type": "markdown",
   "metadata": {},
   "source": [
    "# 构造时间因子\n",
    "- 计算周期因子"
   ]
  },
  {
   "cell_type": "code",
   "execution_count": 11,
   "metadata": {
    "ExecuteTime": {
     "end_time": "2021-01-29T09:25:32.813703Z",
     "start_time": "2021-01-29T09:25:32.805723Z"
    }
   },
   "outputs": [],
   "source": [
    "# 计算每周一到周日的purchase和redeem均值\n",
    "total_balance = tmp_data.copy()\n",
    "weekday_weight = total_balance[['weekday', 'total_purchase_amt', 'total_redeem_amt']].groupby('weekday', as_index=False).mean()"
   ]
  },
  {
   "cell_type": "code",
   "execution_count": 12,
   "metadata": {
    "ExecuteTime": {
     "end_time": "2021-01-29T09:25:34.250042Z",
     "start_time": "2021-01-29T09:25:34.246051Z"
    }
   },
   "outputs": [],
   "source": [
    "weekday_weight.columns=['weekday', 'purchase_weekday', 'redeem_weekday']"
   ]
  },
  {
   "cell_type": "code",
   "execution_count": 13,
   "metadata": {
    "ExecuteTime": {
     "end_time": "2021-01-29T09:25:35.282235Z",
     "start_time": "2021-01-29T09:25:35.267275Z"
    }
   },
   "outputs": [],
   "source": [
    "# 用周日期均值除以总均值得到周期因子\n",
    "weekday_weight['purchase_weekday'] /= np.mean(total_balance['total_purchase_amt'])\n",
    "weekday_weight['redeem_weekday'] /= np.mean(total_balance['total_redeem_amt'])"
   ]
  },
  {
   "cell_type": "code",
   "execution_count": 14,
   "metadata": {
    "ExecuteTime": {
     "end_time": "2021-01-29T09:25:36.558561Z",
     "start_time": "2021-01-29T09:25:36.538615Z"
    }
   },
   "outputs": [],
   "source": [
    "total_balance = pd.merge(total_balance, weekday_weight, on='weekday', how='left')"
   ]
  },
  {
   "cell_type": "markdown",
   "metadata": {},
   "source": [
    "- 计算日期因子"
   ]
  },
  {
   "cell_type": "code",
   "execution_count": 15,
   "metadata": {
    "ExecuteTime": {
     "end_time": "2021-01-29T09:25:37.689877Z",
     "start_time": "2021-01-29T09:25:37.662894Z"
    }
   },
   "outputs": [],
   "source": [
    "# 统计周一到周日在1-31号出现的频次weekday，day出现的频次\n",
    "weekday_count = total_balance[['report_date','day','weekday']].groupby(['day','weekday'],as_index=False).count()\n",
    "weekday_count = pd.merge(weekday_count, weekday_weight, on='weekday')"
   ]
  },
  {
   "cell_type": "code",
   "execution_count": 16,
   "metadata": {
    "ExecuteTime": {
     "end_time": "2021-01-29T09:25:38.835426Z",
     "start_time": "2021-01-29T09:25:38.820465Z"
    }
   },
   "outputs": [],
   "source": [
    "# 日期计算 = 周期因子 * （周一到周日在1-31号出现的频次） / 一共有几个月份\n",
    "weekday_count['purchase_weekday'] = weekday_count['purchase_weekday']* weekday_count['report_date'] / len(np.unique(total_balance['month']))\n",
    "weekday_count['redeem_weekday'] = weekday_count['redeem_weekday']* weekday_count['report_date'] / len(np.unique(total_balance['month']))"
   ]
  },
  {
   "cell_type": "code",
   "execution_count": 17,
   "metadata": {
    "ExecuteTime": {
     "end_time": "2021-01-29T09:25:40.029101Z",
     "start_time": "2021-01-29T09:25:40.012112Z"
    }
   },
   "outputs": [],
   "source": [
    "# 得到日期因子\n",
    "day_rate = weekday_count.drop(['weekday','report_date'], axis=1).groupby('day', as_index=False).sum()"
   ]
  },
  {
   "cell_type": "code",
   "execution_count": 18,
   "metadata": {
    "ExecuteTime": {
     "end_time": "2021-01-29T09:25:41.135173Z",
     "start_time": "2021-01-29T09:25:41.117221Z"
    }
   },
   "outputs": [],
   "source": [
    "# 计算日期平均值\n",
    "day_mean = total_balance[['day','total_purchase_amt','total_redeem_amt']].groupby('day', as_index=False).mean()"
   ]
  },
  {
   "cell_type": "code",
   "execution_count": 19,
   "metadata": {
    "ExecuteTime": {
     "end_time": "2021-01-29T09:25:42.410518Z",
     "start_time": "2021-01-29T09:25:42.402511Z"
    }
   },
   "outputs": [],
   "source": [
    "day_base = pd.merge(day_mean, day_rate, on='day', how='left')\n",
    "# 去掉日期因子影响之后的base值\n",
    "day_base['total_purchase_amt'] /= day_base['purchase_weekday']\n",
    "day_base['total_redeem_amt'] /= day_base['redeem_weekday']"
   ]
  },
  {
   "cell_type": "code",
   "execution_count": 27,
   "metadata": {
    "ExecuteTime": {
     "end_time": "2021-01-29T09:27:02.184374Z",
     "start_time": "2021-01-29T09:27:02.158443Z"
    }
   },
   "outputs": [],
   "source": [
    "for index, row in day_base.iterrows():\n",
    "        if row['day'] == 31:\n",
    "            break\n",
    "        day_base.loc[index, 'report_date'] = pd.to_datetime('2014/9/'+ str(int(row['day'])))"
   ]
  },
  {
   "cell_type": "code",
   "execution_count": 28,
   "metadata": {
    "ExecuteTime": {
     "end_time": "2021-01-29T09:27:03.283138Z",
     "start_time": "2021-01-29T09:27:03.278151Z"
    }
   },
   "outputs": [],
   "source": [
    "# 利用周期因子：base * 周期因子 = 预测结果\n",
    "day_base['weekday'] = day_base['report_date'].dt.weekday"
   ]
  },
  {
   "cell_type": "code",
   "execution_count": 29,
   "metadata": {
    "ExecuteTime": {
     "end_time": "2021-01-29T09:27:04.580404Z",
     "start_time": "2021-01-29T09:27:04.565443Z"
    }
   },
   "outputs": [],
   "source": [
    "day_pred = day_base[['day','total_purchase_amt','total_redeem_amt','report_date','weekday']]\n",
    "day_pred = pd.merge(day_pred, weekday_weight, on='weekday')"
   ]
  },
  {
   "cell_type": "code",
   "execution_count": 30,
   "metadata": {
    "ExecuteTime": {
     "end_time": "2021-01-29T09:27:05.843923Z",
     "start_time": "2021-01-29T09:27:05.830958Z"
    }
   },
   "outputs": [],
   "source": [
    "day_pred['total_purchase_amt'] *= day_pred['purchase_weekday']\n",
    "day_pred['total_redeem_amt'] *= day_pred['redeem_weekday']"
   ]
  },
  {
   "cell_type": "code",
   "execution_count": 31,
   "metadata": {
    "ExecuteTime": {
     "end_time": "2021-01-29T09:27:06.947934Z",
     "start_time": "2021-01-29T09:27:06.940952Z"
    }
   },
   "outputs": [],
   "source": [
    "# 按照日期排序\n",
    "day_pred = day_pred.sort_values('report_date')[['report_date','total_purchase_amt','total_redeem_amt']]"
   ]
  },
  {
   "cell_type": "markdown",
   "metadata": {},
   "source": [
    "# 准备提交数据"
   ]
  },
  {
   "cell_type": "code",
   "execution_count": 32,
   "metadata": {
    "ExecuteTime": {
     "end_time": "2021-01-29T09:27:08.107976Z",
     "start_time": "2021-01-29T09:27:08.102989Z"
    }
   },
   "outputs": [],
   "source": [
    "# 整理日期格式\n",
    "day_pred['report_date'] = day_pred['report_date'].apply(lambda x: str(x).replace('-','')[0:8])"
   ]
  },
  {
   "cell_type": "code",
   "execution_count": 33,
   "metadata": {
    "ExecuteTime": {
     "end_time": "2021-01-29T09:27:09.233002Z",
     "start_time": "2021-01-29T09:27:09.210007Z"
    }
   },
   "outputs": [
    {
     "data": {
      "text/html": [
       "<div>\n",
       "<style scoped>\n",
       "    .dataframe tbody tr th:only-of-type {\n",
       "        vertical-align: middle;\n",
       "    }\n",
       "\n",
       "    .dataframe tbody tr th {\n",
       "        vertical-align: top;\n",
       "    }\n",
       "\n",
       "    .dataframe thead th {\n",
       "        text-align: right;\n",
       "    }\n",
       "</style>\n",
       "<table border=\"1\" class=\"dataframe\">\n",
       "  <thead>\n",
       "    <tr style=\"text-align: right;\">\n",
       "      <th></th>\n",
       "      <th>report_date</th>\n",
       "      <th>total_purchase_amt</th>\n",
       "      <th>total_redeem_amt</th>\n",
       "    </tr>\n",
       "  </thead>\n",
       "  <tbody>\n",
       "    <tr>\n",
       "      <th>0</th>\n",
       "      <td>20140901</td>\n",
       "      <td>3.819439e+08</td>\n",
       "      <td>2.938111e+08</td>\n",
       "    </tr>\n",
       "    <tr>\n",
       "      <th>5</th>\n",
       "      <td>20140902</td>\n",
       "      <td>2.981538e+08</td>\n",
       "      <td>2.507790e+08</td>\n",
       "    </tr>\n",
       "    <tr>\n",
       "      <th>10</th>\n",
       "      <td>20140903</td>\n",
       "      <td>3.360825e+08</td>\n",
       "      <td>3.401504e+08</td>\n",
       "    </tr>\n",
       "    <tr>\n",
       "      <th>14</th>\n",
       "      <td>20140904</td>\n",
       "      <td>3.492969e+08</td>\n",
       "      <td>2.869627e+08</td>\n",
       "    </tr>\n",
       "    <tr>\n",
       "      <th>18</th>\n",
       "      <td>20140905</td>\n",
       "      <td>2.958247e+08</td>\n",
       "      <td>2.514977e+08</td>\n",
       "    </tr>\n",
       "    <tr>\n",
       "      <th>22</th>\n",
       "      <td>20140906</td>\n",
       "      <td>2.273095e+08</td>\n",
       "      <td>1.768153e+08</td>\n",
       "    </tr>\n",
       "    <tr>\n",
       "      <th>26</th>\n",
       "      <td>20140907</td>\n",
       "      <td>2.020493e+08</td>\n",
       "      <td>1.781561e+08</td>\n",
       "    </tr>\n",
       "    <tr>\n",
       "      <th>1</th>\n",
       "      <td>20140908</td>\n",
       "      <td>3.426474e+08</td>\n",
       "      <td>3.097775e+08</td>\n",
       "    </tr>\n",
       "    <tr>\n",
       "      <th>6</th>\n",
       "      <td>20140909</td>\n",
       "      <td>3.432566e+08</td>\n",
       "      <td>2.799395e+08</td>\n",
       "    </tr>\n",
       "    <tr>\n",
       "      <th>11</th>\n",
       "      <td>20140910</td>\n",
       "      <td>3.867549e+08</td>\n",
       "      <td>2.972462e+08</td>\n",
       "    </tr>\n",
       "    <tr>\n",
       "      <th>15</th>\n",
       "      <td>20140911</td>\n",
       "      <td>3.166415e+08</td>\n",
       "      <td>2.993030e+08</td>\n",
       "    </tr>\n",
       "    <tr>\n",
       "      <th>19</th>\n",
       "      <td>20140912</td>\n",
       "      <td>2.472895e+08</td>\n",
       "      <td>2.510959e+08</td>\n",
       "    </tr>\n",
       "    <tr>\n",
       "      <th>23</th>\n",
       "      <td>20140913</td>\n",
       "      <td>1.879924e+08</td>\n",
       "      <td>1.968713e+08</td>\n",
       "    </tr>\n",
       "    <tr>\n",
       "      <th>27</th>\n",
       "      <td>20140914</td>\n",
       "      <td>1.929401e+08</td>\n",
       "      <td>2.213535e+08</td>\n",
       "    </tr>\n",
       "    <tr>\n",
       "      <th>2</th>\n",
       "      <td>20140915</td>\n",
       "      <td>3.472844e+08</td>\n",
       "      <td>2.881076e+08</td>\n",
       "    </tr>\n",
       "    <tr>\n",
       "      <th>7</th>\n",
       "      <td>20140916</td>\n",
       "      <td>3.778032e+08</td>\n",
       "      <td>3.584768e+08</td>\n",
       "    </tr>\n",
       "    <tr>\n",
       "      <th>12</th>\n",
       "      <td>20140917</td>\n",
       "      <td>2.878720e+08</td>\n",
       "      <td>3.423040e+08</td>\n",
       "    </tr>\n",
       "    <tr>\n",
       "      <th>16</th>\n",
       "      <td>20140918</td>\n",
       "      <td>3.098768e+08</td>\n",
       "      <td>2.745442e+08</td>\n",
       "    </tr>\n",
       "    <tr>\n",
       "      <th>20</th>\n",
       "      <td>20140919</td>\n",
       "      <td>2.553745e+08</td>\n",
       "      <td>2.569703e+08</td>\n",
       "    </tr>\n",
       "    <tr>\n",
       "      <th>24</th>\n",
       "      <td>20140920</td>\n",
       "      <td>2.206844e+08</td>\n",
       "      <td>1.701213e+08</td>\n",
       "    </tr>\n",
       "    <tr>\n",
       "      <th>28</th>\n",
       "      <td>20140921</td>\n",
       "      <td>2.005183e+08</td>\n",
       "      <td>2.113855e+08</td>\n",
       "    </tr>\n",
       "    <tr>\n",
       "      <th>3</th>\n",
       "      <td>20140922</td>\n",
       "      <td>2.853115e+08</td>\n",
       "      <td>3.269821e+08</td>\n",
       "    </tr>\n",
       "    <tr>\n",
       "      <th>8</th>\n",
       "      <td>20140923</td>\n",
       "      <td>2.743273e+08</td>\n",
       "      <td>3.012125e+08</td>\n",
       "    </tr>\n",
       "    <tr>\n",
       "      <th>13</th>\n",
       "      <td>20140924</td>\n",
       "      <td>2.701369e+08</td>\n",
       "      <td>3.407229e+08</td>\n",
       "    </tr>\n",
       "    <tr>\n",
       "      <th>17</th>\n",
       "      <td>20140925</td>\n",
       "      <td>2.686391e+08</td>\n",
       "      <td>3.096380e+08</td>\n",
       "    </tr>\n",
       "    <tr>\n",
       "      <th>21</th>\n",
       "      <td>20140926</td>\n",
       "      <td>2.253898e+08</td>\n",
       "      <td>3.070802e+08</td>\n",
       "    </tr>\n",
       "    <tr>\n",
       "      <th>25</th>\n",
       "      <td>20140927</td>\n",
       "      <td>1.806782e+08</td>\n",
       "      <td>2.283780e+08</td>\n",
       "    </tr>\n",
       "    <tr>\n",
       "      <th>29</th>\n",
       "      <td>20140928</td>\n",
       "      <td>1.896649e+08</td>\n",
       "      <td>2.596058e+08</td>\n",
       "    </tr>\n",
       "    <tr>\n",
       "      <th>4</th>\n",
       "      <td>20140929</td>\n",
       "      <td>2.868163e+08</td>\n",
       "      <td>3.368237e+08</td>\n",
       "    </tr>\n",
       "    <tr>\n",
       "      <th>9</th>\n",
       "      <td>20140930</td>\n",
       "      <td>2.875595e+08</td>\n",
       "      <td>3.369596e+08</td>\n",
       "    </tr>\n",
       "  </tbody>\n",
       "</table>\n",
       "</div>"
      ],
      "text/plain": [
       "   report_date  total_purchase_amt  total_redeem_amt\n",
       "0     20140901        3.819439e+08      2.938111e+08\n",
       "5     20140902        2.981538e+08      2.507790e+08\n",
       "10    20140903        3.360825e+08      3.401504e+08\n",
       "14    20140904        3.492969e+08      2.869627e+08\n",
       "18    20140905        2.958247e+08      2.514977e+08\n",
       "22    20140906        2.273095e+08      1.768153e+08\n",
       "26    20140907        2.020493e+08      1.781561e+08\n",
       "1     20140908        3.426474e+08      3.097775e+08\n",
       "6     20140909        3.432566e+08      2.799395e+08\n",
       "11    20140910        3.867549e+08      2.972462e+08\n",
       "15    20140911        3.166415e+08      2.993030e+08\n",
       "19    20140912        2.472895e+08      2.510959e+08\n",
       "23    20140913        1.879924e+08      1.968713e+08\n",
       "27    20140914        1.929401e+08      2.213535e+08\n",
       "2     20140915        3.472844e+08      2.881076e+08\n",
       "7     20140916        3.778032e+08      3.584768e+08\n",
       "12    20140917        2.878720e+08      3.423040e+08\n",
       "16    20140918        3.098768e+08      2.745442e+08\n",
       "20    20140919        2.553745e+08      2.569703e+08\n",
       "24    20140920        2.206844e+08      1.701213e+08\n",
       "28    20140921        2.005183e+08      2.113855e+08\n",
       "3     20140922        2.853115e+08      3.269821e+08\n",
       "8     20140923        2.743273e+08      3.012125e+08\n",
       "13    20140924        2.701369e+08      3.407229e+08\n",
       "17    20140925        2.686391e+08      3.096380e+08\n",
       "21    20140926        2.253898e+08      3.070802e+08\n",
       "25    20140927        1.806782e+08      2.283780e+08\n",
       "29    20140928        1.896649e+08      2.596058e+08\n",
       "4     20140929        2.868163e+08      3.368237e+08\n",
       "9     20140930        2.875595e+08      3.369596e+08"
      ]
     },
     "execution_count": 33,
     "metadata": {},
     "output_type": "execute_result"
    }
   ],
   "source": [
    "day_pred"
   ]
  },
  {
   "cell_type": "code",
   "execution_count": 67,
   "metadata": {
    "ExecuteTime": {
     "end_time": "2021-01-28T12:04:40.679757Z",
     "start_time": "2021-01-28T12:04:40.655827Z"
    }
   },
   "outputs": [],
   "source": [
    "day_pred.to_csv('Submission/rule_base.csv', index=False, header=None)"
   ]
  },
  {
   "cell_type": "code",
   "execution_count": null,
   "metadata": {},
   "outputs": [],
   "source": []
  }
 ],
 "metadata": {
  "kernelspec": {
   "display_name": "rs",
   "language": "python",
   "name": "rs"
  },
  "language_info": {
   "codemirror_mode": {
    "name": "ipython",
    "version": 3
   },
   "file_extension": ".py",
   "mimetype": "text/x-python",
   "name": "python",
   "nbconvert_exporter": "python",
   "pygments_lexer": "ipython3",
   "version": "3.8.5"
  },
  "toc": {
   "base_numbering": 1,
   "nav_menu": {},
   "number_sections": true,
   "sideBar": true,
   "skip_h1_title": false,
   "title_cell": "Table of Contents",
   "title_sidebar": "Contents",
   "toc_cell": false,
   "toc_position": {},
   "toc_section_display": true,
   "toc_window_display": false
  },
  "varInspector": {
   "cols": {
    "lenName": 16,
    "lenType": 16,
    "lenVar": 40
   },
   "kernels_config": {
    "python": {
     "delete_cmd_postfix": "",
     "delete_cmd_prefix": "del ",
     "library": "var_list.py",
     "varRefreshCmd": "print(var_dic_list())"
    },
    "r": {
     "delete_cmd_postfix": ") ",
     "delete_cmd_prefix": "rm(",
     "library": "var_list.r",
     "varRefreshCmd": "cat(var_dic_list()) "
    }
   },
   "types_to_exclude": [
    "module",
    "function",
    "builtin_function_or_method",
    "instance",
    "_Feature"
   ],
   "window_display": false
  }
 },
 "nbformat": 4,
 "nbformat_minor": 4
}
